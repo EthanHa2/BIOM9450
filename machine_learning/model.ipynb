{
 "cells": [
  {
   "cell_type": "markdown",
   "id": "7a70be5c",
   "metadata": {},
   "source": [
    "# <b>Machine Learning Model Jupyter Notebook</B>"
   ]
  },
  {
   "cell_type": "markdown",
   "id": "0a4d529b",
   "metadata": {},
   "source": [
    "Supervised learning machine learning model that takes in:\n",
    "    <li> Chromosome\n",
    "    <li> Chromosome Start Position\n",
    "    <li> Chromosome End Position\n",
    "    <li> Mutated From Allele\n",
    "    <li> Mutated To Allele\n",
    "\n",
    "Make sure to run pip install -r requirements.txt\n",
    "\n",
    "```\n",
    "python -m venv venv \n",
    "source venv/bin/activate   # On Windows: venv\\Scripts\\activate\n",
    "pip install pandas numpy scikit-learn scipy\n",
    "pip freeze > requirements.txt\n",
    "```\n"
   ]
  },
  {
   "cell_type": "code",
   "execution_count": null,
   "id": "b9d665bf",
   "metadata": {},
   "outputs": [
    {
     "ename": "",
     "evalue": "",
     "output_type": "error",
     "traceback": [
      "\u001b[1;31mRunning cells with 'Python 3.10.1' requires the ipykernel package.\n",
      "\u001b[1;31m<a href='command:jupyter.createPythonEnvAndSelectController'>Create a Python Environment</a> with the required packages."
     ]
    }
   ],
   "source": [
    "import pandas as pd\n",
    "import numpy as np\n",
    "from sklearn.preprocessing import LabelEncoder\n",
    "from sklearn.metrics.pairwise import cosine_similarity\n",
    "from sklearn.neighbors import NearestNeighbors\n",
    "import scipy.sparse as sp"
   ]
  }
 ],
 "metadata": {
  "kernelspec": {
   "display_name": "Python 3",
   "language": "python",
   "name": "python3"
  },
  "language_info": {
   "name": "python",
   "version": "3.10.1"
  }
 },
 "nbformat": 4,
 "nbformat_minor": 5
}
